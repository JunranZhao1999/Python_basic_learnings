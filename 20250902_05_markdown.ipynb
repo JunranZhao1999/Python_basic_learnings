{
 "cells": [
  {
   "cell_type": "markdown",
   "id": "fd0d04a2-6a64-4ff2-bff6-d42cc73580fa",
   "metadata": {},
   "source": [
    "# Title"
   ]
  },
  {
   "cell_type": "markdown",
   "id": "05e0cfa4-8193-4573-9bb7-653aef23eeff",
   "metadata": {},
   "source": [
    "我是**粗体字**"
   ]
  },
  {
   "cell_type": "markdown",
   "id": "2c22666d-cd77-4076-8e9a-01746c414b3c",
   "metadata": {},
   "source": [
    "我是*斜体字*"
   ]
  },
  {
   "cell_type": "markdown",
   "id": "8d905fad-d7d1-4357-9927-a48c24e311d7",
   "metadata": {},
   "source": [
    "我被~~删除~~了"
   ]
  },
  {
   "cell_type": "markdown",
   "id": "f313d25f-d55e-4c2a-83bc-455cd42ab35c",
   "metadata": {},
   "source": [
    "无符号默认普通文字\n",
    "你加的换行不会在段上显示出来\n",
    "文字之间只会出现一个空格"
   ]
  },
  {
   "cell_type": "markdown",
   "id": "2b98ca65-3156-46f5-bf53-49e4d4785dd6",
   "metadata": {},
   "source": [
    "想要表达出换行效果\n",
    "\n",
    "一个方法是打字时多打一行换行"
   ]
  },
  {
   "cell_type": "markdown",
   "id": "11d89321-7749-481b-a529-699fbf3222ed",
   "metadata": {},
   "source": [
    "另一个方法是  在第一行后面额外加两个空格(好像用不了)"
   ]
  },
  {
   "cell_type": "markdown",
   "id": "67d076af-f73a-4f5a-8b9b-2ea0e5c778f9",
   "metadata": {},
   "source": [
    "- 我是一个无序列表的第一行\n",
    "- 我是一个无序列表的第二行\n",
    "- 我是一个无序列表的第三行"
   ]
  },
  {
   "cell_type": "markdown",
   "id": "549f09f4-fb03-48d1-b4f9-247e4293d5ac",
   "metadata": {},
   "source": [
    "1. 我是一个有序列表的第一行\n",
    "2. 我是一个有序列表的第二行\n",
    "3. 我是一个有序列表的第三行"
   ]
  },
  {
   "cell_type": "markdown",
   "id": "ac2044c2-74d7-4d21-990d-c8048e148116",
   "metadata": {},
   "source": [
    "[我的哔哩哔哩关注](https://space.bilibili.com/283996131/relation/follow)"
   ]
  },
  {
   "cell_type": "markdown",
   "id": "c1fe607d-83c8-4ea5-aad2-f8d70aea2549",
   "metadata": {},
   "source": [
    "![Shading](https://i.pinimg.com/1200x/0c/d4/9c/0cd49c6d095ccd6198df12cd46594f12.jpg)"
   ]
  },
  {
   "cell_type": "markdown",
   "id": "d7ce0a52-14fb-49dd-bbe8-8826b1758ab1",
   "metadata": {},
   "source": [
    "> 蒹葭\n",
    ">\n",
    "> 蒹葭苍苍\n",
    ">\n",
    "> 白露为霜"
   ]
  },
  {
   "cell_type": "markdown",
   "id": "b2078418-0ee0-48f9-a6f5-b9b10a508e10",
   "metadata": {},
   "source": [
    "我们通过`import math`来引入代码库"
   ]
  },
  {
   "cell_type": "markdown",
   "id": "09bf6608-3162-45b2-9c58-4fd62f279857",
   "metadata": {},
   "source": [
    "备注:要在文字里插入代码,就用反引号包裹住代码"
   ]
  },
  {
   "cell_type": "markdown",
   "id": "cedf7c36-3dbd-49c1-85f7-eb0324764d10",
   "metadata": {},
   "source": [
    "```\n",
    "import math\n",
    "print('Hello World')\n",
    "print(math.pi)\n",
    "```"
   ]
  },
  {
   "cell_type": "markdown",
   "id": "38b552d2-fa4a-4144-a227-d3f0ecdba712",
   "metadata": {},
   "source": [
    "备注:如果我们要插入独占一段的代码段落,就用三个反引号"
   ]
  },
  {
   "cell_type": "markdown",
   "id": "a3c714f2-1b1e-4dcf-a7a8-938ed20ea5ad",
   "metadata": {},
   "source": [
    "```python\n",
    "import math\n",
    "print('Hello World')\n",
    "print(math.pi)\n",
    "```"
   ]
  },
  {
   "cell_type": "markdown",
   "id": "fd28bd82-c78b-41d3-9e16-9536cacb4c34",
   "metadata": {},
   "source": [
    "备注:\n",
    "三个反引号后面可以带上代码语言的名字 \n",
    "这样Markdown就会展示针对那个语言的语法高亮"
   ]
  },
  {
   "cell_type": "markdown",
   "id": "18cb36ff-0f4d-44ca-b028-03b8f801fef3",
   "metadata": {},
   "source": [
    "这是一个公式: $x + y = 3$"
   ]
  },
  {
   "cell_type": "markdown",
   "id": "144c994b-1daa-4f55-bcc0-d2f217401f15",
   "metadata": {},
   "source": [
    "下面是独占一行的公式:$$ x + y = 3 $$"
   ]
  },
  {
   "cell_type": "markdown",
   "id": "f54b1b60-7c18-4cd0-9b23-2590c5076f62",
   "metadata": {},
   "source": [
    "$$x+y$$"
   ]
  },
  {
   "cell_type": "markdown",
   "id": "a5845e9f-0ece-42ed-83b5-9d6578240b4a",
   "metadata": {},
   "source": [
    "$$x-y$$"
   ]
  },
  {
   "cell_type": "markdown",
   "id": "a5a0f445-a6fa-41d0-b35c-0e283ab080db",
   "metadata": {},
   "source": [
    "$$x \\times y$$"
   ]
  },
  {
   "cell_type": "markdown",
   "id": "75358a0c-8c4a-4f52-a955-41d112856dbe",
   "metadata": {},
   "source": [
    "$$x \\div y$$"
   ]
  },
  {
   "cell_type": "markdown",
   "id": "dea14933-de74-474c-9286-c02637ed4dac",
   "metadata": {},
   "source": [
    "$$x^3$$"
   ]
  },
  {
   "cell_type": "markdown",
   "id": "b60acbe5-81fd-4a29-9297-5d7b633b879d",
   "metadata": {},
   "source": [
    "$$ H_2O $$"
   ]
  },
  {
   "cell_type": "markdown",
   "id": "a31ec74f-a0ce-490d-8897-fddcd4386da5",
   "metadata": {},
   "source": [
    "$$ S_{input} $$"
   ]
  },
  {
   "cell_type": "markdown",
   "id": "4eac1eb4-782b-4683-b177-be300909f2c7",
   "metadata": {},
   "source": [
    "$$ \\sum(x^2+y^2) $$"
   ]
  },
  {
   "cell_type": "markdown",
   "id": "ec7a9195-eb5b-46a1-a1d2-10070d30d936",
   "metadata": {},
   "source": [
    "$$ \\sqrt[3]x $$"
   ]
  },
  {
   "cell_type": "markdown",
   "id": "2d85e5e9-d339-46f1-b5f5-ef3c40ba438e",
   "metadata": {},
   "source": [
    "$$ \\sqrt[3]{a^2m^2} $$"
   ]
  },
  {
   "cell_type": "markdown",
   "id": "6945a5d8-cd43-4d75-98d5-8ed39bcfadfe",
   "metadata": {},
   "source": [
    "$$ \\frac{x+y}{x-y} $$"
   ]
  },
  {
   "cell_type": "code",
   "execution_count": null,
   "id": "cdd70bfa-ca9d-4bb8-8fea-59e6a9310d77",
   "metadata": {},
   "outputs": [],
   "source": []
  }
 ],
 "metadata": {
  "kernelspec": {
   "display_name": "Python [conda env:base] *",
   "language": "python",
   "name": "conda-base-py"
  },
  "language_info": {
   "codemirror_mode": {
    "name": "ipython",
    "version": 3
   },
   "file_extension": ".py",
   "mimetype": "text/x-python",
   "name": "python",
   "nbconvert_exporter": "python",
   "pygments_lexer": "ipython3",
   "version": "3.13.5"
  }
 },
 "nbformat": 4,
 "nbformat_minor": 5
}
