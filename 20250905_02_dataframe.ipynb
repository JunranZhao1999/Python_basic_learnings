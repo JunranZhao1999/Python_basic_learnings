{
 "cells": [
  {
   "cell_type": "code",
   "execution_count": 1,
   "id": "547ec29b-677b-4c43-bd97-9144abc0e976",
   "metadata": {},
   "outputs": [],
   "source": [
    "import pandas as pd"
   ]
  },
  {
   "cell_type": "code",
   "execution_count": 2,
   "id": "f8d25856-adb8-4647-9584-e7b3f88cdeea",
   "metadata": {},
   "outputs": [
    {
     "data": {
      "text/html": [
       "<div>\n",
       "<style scoped>\n",
       "    .dataframe tbody tr th:only-of-type {\n",
       "        vertical-align: middle;\n",
       "    }\n",
       "\n",
       "    .dataframe tbody tr th {\n",
       "        vertical-align: top;\n",
       "    }\n",
       "\n",
       "    .dataframe thead th {\n",
       "        text-align: right;\n",
       "    }\n",
       "</style>\n",
       "<table border=\"1\" class=\"dataframe\">\n",
       "  <thead>\n",
       "    <tr style=\"text-align: right;\">\n",
       "      <th></th>\n",
       "      <th>选手1</th>\n",
       "      <th>选手2</th>\n",
       "      <th>选手3</th>\n",
       "    </tr>\n",
       "  </thead>\n",
       "  <tbody>\n",
       "    <tr>\n",
       "      <th>001</th>\n",
       "      <td>8.5</td>\n",
       "      <td>9.0</td>\n",
       "      <td>8.7</td>\n",
       "    </tr>\n",
       "    <tr>\n",
       "      <th>002</th>\n",
       "      <td>7.9</td>\n",
       "      <td>8.3</td>\n",
       "      <td>8.1</td>\n",
       "    </tr>\n",
       "    <tr>\n",
       "      <th>003</th>\n",
       "      <td>8.2</td>\n",
       "      <td>8.6</td>\n",
       "      <td>8.4</td>\n",
       "    </tr>\n",
       "    <tr>\n",
       "      <th>004</th>\n",
       "      <td>7.6</td>\n",
       "      <td>7.7</td>\n",
       "      <td>7.9</td>\n",
       "    </tr>\n",
       "    <tr>\n",
       "      <th>005</th>\n",
       "      <td>8.8</td>\n",
       "      <td>8.9</td>\n",
       "      <td>8.6</td>\n",
       "    </tr>\n",
       "    <tr>\n",
       "      <th>006</th>\n",
       "      <td>7.4</td>\n",
       "      <td>7.8</td>\n",
       "      <td>7.3</td>\n",
       "    </tr>\n",
       "  </tbody>\n",
       "</table>\n",
       "</div>"
      ],
      "text/plain": [
       "     选手1  选手2  选手3\n",
       "001  8.5  9.0  8.7\n",
       "002  7.9  8.3  8.1\n",
       "003  8.2  8.6  8.4\n",
       "004  7.6  7.7  7.9\n",
       "005  8.8  8.9  8.6\n",
       "006  7.4  7.8  7.3"
      ]
     },
     "execution_count": 2,
     "metadata": {},
     "output_type": "execute_result"
    }
   ],
   "source": [
    "player1 = pd.Series([8.5, 7.9, 8.2, 7.6, 8.8, 7.4], index=[\"001\", \"002\", \"003\", \"004\", \"005\", \"006\"])\n",
    "player2 = pd.Series([9.0, 8.3, 8.6, 7.7, 8.9, 7.8], index=[\"001\", \"002\", \"003\", \"004\", \"005\", \"006\"])\n",
    "player3 = pd.Series([8.7, 8.1, 8.4, 7.9, 8.6, 7.3], index=[\"001\", \"002\", \"003\", \"004\", \"005\", \"006\"])\n",
    "df1 = pd.DataFrame({\"选手1\": player1, \"选手2\": player2, \"选手3\": player3})\n",
    "df1"
   ]
  },
  {
   "cell_type": "code",
   "execution_count": 3,
   "id": "c3ab51f7-487e-44ad-99d7-caacbe28b038",
   "metadata": {},
   "outputs": [
    {
     "data": {
      "text/plain": [
       "选手1    8.066667\n",
       "选手2    8.383333\n",
       "选手3    8.166667\n",
       "dtype: float64"
      ]
     },
     "execution_count": 3,
     "metadata": {},
     "output_type": "execute_result"
    }
   ],
   "source": [
    "df1.mean()"
   ]
  },
  {
   "cell_type": "code",
   "execution_count": 4,
   "id": "0211a99d-4edb-47e5-be76-b349cf185fa4",
   "metadata": {},
   "outputs": [
    {
     "data": {
      "text/plain": [
       "001    8.733333\n",
       "002    8.100000\n",
       "003    8.400000\n",
       "004    7.733333\n",
       "005    8.766667\n",
       "006    7.500000\n",
       "dtype: float64"
      ]
     },
     "execution_count": 4,
     "metadata": {},
     "output_type": "execute_result"
    }
   ],
   "source": [
    "df1.mean(axis=1)"
   ]
  },
  {
   "cell_type": "markdown",
   "id": "c89e7655-b1f2-4e8c-ac46-6d27626fe633",
   "metadata": {},
   "source": [
    "有的时候是去掉一个最高分去掉一个最低分求平均"
   ]
  },
  {
   "cell_type": "code",
   "execution_count": 5,
   "id": "e244ac44-2ab4-4cb5-a7fd-5cd69d1cfacf",
   "metadata": {},
   "outputs": [],
   "source": [
    "def trim_mean(data):\n",
    "    data_len = len(data)\n",
    "    data_max = data.max()\n",
    "    data_min = data.min()\n",
    "    data_sum = data.sum()\n",
    "    return (data_sum - data_max - data_min) / data_len"
   ]
  },
  {
   "cell_type": "markdown",
   "id": "c3dd120f-cca8-4e1a-abb3-d250fe380d84",
   "metadata": {},
   "source": [
    "DataFrame也有一个apply的同名方法\n",
    "\n",
    "调用函数为参数后,就会将其运用在DataFrame的每列或每行上\n",
    "\n",
    "不指定axis的时候,默认是对列操作\n",
    "\n",
    "axis = 1, 每行运算"
   ]
  },
  {
   "cell_type": "code",
   "execution_count": 6,
   "id": "fcd33f8a-e1b4-4452-9937-a033695b142d",
   "metadata": {},
   "outputs": [
    {
     "data": {
      "text/plain": [
       "选手1    5.366667\n",
       "选手2    5.600000\n",
       "选手3    5.500000\n",
       "dtype: float64"
      ]
     },
     "execution_count": 6,
     "metadata": {},
     "output_type": "execute_result"
    }
   ],
   "source": [
    "df1.apply(trim_mean)"
   ]
  },
  {
   "cell_type": "code",
   "execution_count": 7,
   "id": "cf7be163-d16d-44a8-b365-24da28f0fb0e",
   "metadata": {},
   "outputs": [
    {
     "data": {
      "text/plain": [
       "001    2.900000\n",
       "002    2.700000\n",
       "003    2.800000\n",
       "004    2.566667\n",
       "005    2.933333\n",
       "006    2.466667\n",
       "dtype: float64"
      ]
     },
     "execution_count": 7,
     "metadata": {},
     "output_type": "execute_result"
    }
   ],
   "source": [
    "df1.apply(trim_mean, axis =1)"
   ]
  },
  {
   "cell_type": "markdown",
   "id": "6599b979-fc43-4dad-b436-6a2513c199b7",
   "metadata": {},
   "source": [
    "applymap方法,也是接受函数\n",
    "\n",
    "apply运用在每列/每行\n",
    "\n",
    "applymap运用在每个元素上"
   ]
  },
  {
   "cell_type": "code",
   "execution_count": 10,
   "id": "15210a08-df66-4cd2-b1af-26c6e1fb2551",
   "metadata": {},
   "outputs": [
    {
     "name": "stderr",
     "output_type": "stream",
     "text": [
      "/var/folders/hx/vrwsgqgx7bncbt28n44f0b540000gn/T/ipykernel_5443/3530663968.py:1: FutureWarning: DataFrame.applymap has been deprecated. Use DataFrame.map instead.\n",
      "  df1.applymap(lambda x:x + 5)\n"
     ]
    },
    {
     "data": {
      "text/html": [
       "<div>\n",
       "<style scoped>\n",
       "    .dataframe tbody tr th:only-of-type {\n",
       "        vertical-align: middle;\n",
       "    }\n",
       "\n",
       "    .dataframe tbody tr th {\n",
       "        vertical-align: top;\n",
       "    }\n",
       "\n",
       "    .dataframe thead th {\n",
       "        text-align: right;\n",
       "    }\n",
       "</style>\n",
       "<table border=\"1\" class=\"dataframe\">\n",
       "  <thead>\n",
       "    <tr style=\"text-align: right;\">\n",
       "      <th></th>\n",
       "      <th>选手1</th>\n",
       "      <th>选手2</th>\n",
       "      <th>选手3</th>\n",
       "    </tr>\n",
       "  </thead>\n",
       "  <tbody>\n",
       "    <tr>\n",
       "      <th>001</th>\n",
       "      <td>13.5</td>\n",
       "      <td>14.0</td>\n",
       "      <td>13.7</td>\n",
       "    </tr>\n",
       "    <tr>\n",
       "      <th>002</th>\n",
       "      <td>12.9</td>\n",
       "      <td>13.3</td>\n",
       "      <td>13.1</td>\n",
       "    </tr>\n",
       "    <tr>\n",
       "      <th>003</th>\n",
       "      <td>13.2</td>\n",
       "      <td>13.6</td>\n",
       "      <td>13.4</td>\n",
       "    </tr>\n",
       "    <tr>\n",
       "      <th>004</th>\n",
       "      <td>12.6</td>\n",
       "      <td>12.7</td>\n",
       "      <td>12.9</td>\n",
       "    </tr>\n",
       "    <tr>\n",
       "      <th>005</th>\n",
       "      <td>13.8</td>\n",
       "      <td>13.9</td>\n",
       "      <td>13.6</td>\n",
       "    </tr>\n",
       "    <tr>\n",
       "      <th>006</th>\n",
       "      <td>12.4</td>\n",
       "      <td>12.8</td>\n",
       "      <td>12.3</td>\n",
       "    </tr>\n",
       "  </tbody>\n",
       "</table>\n",
       "</div>"
      ],
      "text/plain": [
       "      选手1   选手2   选手3\n",
       "001  13.5  14.0  13.7\n",
       "002  12.9  13.3  13.1\n",
       "003  13.2  13.6  13.4\n",
       "004  12.6  12.7  12.9\n",
       "005  13.8  13.9  13.6\n",
       "006  12.4  12.8  12.3"
      ]
     },
     "execution_count": 10,
     "metadata": {},
     "output_type": "execute_result"
    }
   ],
   "source": [
    "df1.applymap(lambda x:x + 5)"
   ]
  },
  {
   "cell_type": "markdown",
   "id": "e909672b-1d24-44f4-898e-b5ceb64a96e1",
   "metadata": {},
   "source": [
    "apply和applymap都是返回一个新的dataframe\n",
    "原始的并没有改变"
   ]
  },
  {
   "cell_type": "markdown",
   "id": "70107678-188e-4033-b063-ec883ce60e66",
   "metadata": {},
   "source": [
    "#### describe\n",
    "describe方法会忽视所有非数字的列,只计算有数字的统计信息"
   ]
  },
  {
   "cell_type": "code",
   "execution_count": 11,
   "id": "f2c1d7c5-c509-482b-a1aa-f181a161aebf",
   "metadata": {},
   "outputs": [
    {
     "data": {
      "text/html": [
       "<div>\n",
       "<style scoped>\n",
       "    .dataframe tbody tr th:only-of-type {\n",
       "        vertical-align: middle;\n",
       "    }\n",
       "\n",
       "    .dataframe tbody tr th {\n",
       "        vertical-align: top;\n",
       "    }\n",
       "\n",
       "    .dataframe thead th {\n",
       "        text-align: right;\n",
       "    }\n",
       "</style>\n",
       "<table border=\"1\" class=\"dataframe\">\n",
       "  <thead>\n",
       "    <tr style=\"text-align: right;\">\n",
       "      <th></th>\n",
       "      <th>选手1</th>\n",
       "      <th>选手2</th>\n",
       "      <th>选手3</th>\n",
       "    </tr>\n",
       "  </thead>\n",
       "  <tbody>\n",
       "    <tr>\n",
       "      <th>count</th>\n",
       "      <td>6.000000</td>\n",
       "      <td>6.000000</td>\n",
       "      <td>6.000000</td>\n",
       "    </tr>\n",
       "    <tr>\n",
       "      <th>mean</th>\n",
       "      <td>8.066667</td>\n",
       "      <td>8.383333</td>\n",
       "      <td>8.166667</td>\n",
       "    </tr>\n",
       "    <tr>\n",
       "      <th>std</th>\n",
       "      <td>0.535413</td>\n",
       "      <td>0.549242</td>\n",
       "      <td>0.520256</td>\n",
       "    </tr>\n",
       "    <tr>\n",
       "      <th>min</th>\n",
       "      <td>7.400000</td>\n",
       "      <td>7.700000</td>\n",
       "      <td>7.300000</td>\n",
       "    </tr>\n",
       "    <tr>\n",
       "      <th>25%</th>\n",
       "      <td>7.675000</td>\n",
       "      <td>7.925000</td>\n",
       "      <td>7.950000</td>\n",
       "    </tr>\n",
       "    <tr>\n",
       "      <th>50%</th>\n",
       "      <td>8.050000</td>\n",
       "      <td>8.450000</td>\n",
       "      <td>8.250000</td>\n",
       "    </tr>\n",
       "    <tr>\n",
       "      <th>75%</th>\n",
       "      <td>8.425000</td>\n",
       "      <td>8.825000</td>\n",
       "      <td>8.550000</td>\n",
       "    </tr>\n",
       "    <tr>\n",
       "      <th>max</th>\n",
       "      <td>8.800000</td>\n",
       "      <td>9.000000</td>\n",
       "      <td>8.700000</td>\n",
       "    </tr>\n",
       "  </tbody>\n",
       "</table>\n",
       "</div>"
      ],
      "text/plain": [
       "            选手1       选手2       选手3\n",
       "count  6.000000  6.000000  6.000000\n",
       "mean   8.066667  8.383333  8.166667\n",
       "std    0.535413  0.549242  0.520256\n",
       "min    7.400000  7.700000  7.300000\n",
       "25%    7.675000  7.925000  7.950000\n",
       "50%    8.050000  8.450000  8.250000\n",
       "75%    8.425000  8.825000  8.550000\n",
       "max    8.800000  9.000000  8.700000"
      ]
     },
     "execution_count": 11,
     "metadata": {},
     "output_type": "execute_result"
    }
   ],
   "source": [
    "df1.describe()"
   ]
  },
  {
   "cell_type": "code",
   "execution_count": null,
   "id": "65809100-08fc-4be6-be0a-0211731f51d9",
   "metadata": {},
   "outputs": [],
   "source": []
  }
 ],
 "metadata": {
  "kernelspec": {
   "display_name": "Python 3 (ipykernel)",
   "language": "python",
   "name": "python3"
  },
  "language_info": {
   "codemirror_mode": {
    "name": "ipython",
    "version": 3
   },
   "file_extension": ".py",
   "mimetype": "text/x-python",
   "name": "python",
   "nbconvert_exporter": "python",
   "pygments_lexer": "ipython3",
   "version": "3.13.7"
  }
 },
 "nbformat": 4,
 "nbformat_minor": 5
}
