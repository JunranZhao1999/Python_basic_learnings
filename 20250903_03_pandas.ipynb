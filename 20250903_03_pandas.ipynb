{
 "cells": [
  {
   "cell_type": "markdown",
   "id": "6ff2c17b-5d95-4007-97a8-40acd3d9ed7e",
   "metadata": {},
   "source": [
    "#### 创建 Series"
   ]
  },
  {
   "cell_type": "code",
   "execution_count": 1,
   "id": "c9ccb88b-a2aa-48d8-bea4-35b4bd5efbb1",
   "metadata": {},
   "outputs": [],
   "source": [
    "import pandas as pd"
   ]
  },
  {
   "cell_type": "markdown",
   "id": "34f597d0-7955-4f19-811a-eb4eedddda0f",
   "metadata": {},
   "source": [
    "注意Series第一个字母要大写"
   ]
  },
  {
   "cell_type": "code",
   "execution_count": 2,
   "id": "4b4ab1fc-2048-493d-abbe-4d6d75b7a00f",
   "metadata": {
    "collapsed": true,
    "jupyter": {
     "outputs_hidden": true
    }
   },
   "outputs": [
    {
     "data": {
      "text/plain": [
       "0     5\n",
       "1     7\n",
       "2     3\n",
       "3    26\n",
       "4    31\n",
       "dtype: int64"
      ]
     },
     "execution_count": 2,
     "metadata": {},
     "output_type": "execute_result"
    }
   ],
   "source": [
    "s1 = pd.Series([5,7,3,26,31])\n",
    "s1"
   ]
  },
  {
   "cell_type": "markdown",
   "id": "7e6b6b75-4950-4b46-9429-d45d291e1b11",
   "metadata": {},
   "source": [
    "和numpy数组的区别在于它不止展示了里面有什么元素,元素左边还有专门的index索引"
   ]
  },
  {
   "cell_type": "markdown",
   "id": "bf342b2b-94f9-4964-bc41-4f45cc26b1dc",
   "metadata": {},
   "source": [
    "#### 获得Series的元素和索引"
   ]
  },
  {
   "cell_type": "markdown",
   "id": "f381d8e0-d914-4e9a-b922-e61c7ae6c12f",
   "metadata": {},
   "source": [
    "如果想单独获得Series的所有元素值\n",
    "可以用values属性"
   ]
  },
  {
   "cell_type": "code",
   "execution_count": 4,
   "id": "a0c28df8-80cd-47bf-bd5a-a86fdf350740",
   "metadata": {},
   "outputs": [
    {
     "data": {
      "text/plain": [
       "array([ 5,  7,  3, 26, 31])"
      ]
     },
     "execution_count": 4,
     "metadata": {},
     "output_type": "execute_result"
    }
   ],
   "source": [
    "s1.values"
   ]
  },
  {
   "cell_type": "markdown",
   "id": "599934dd-ead1-442d-b4c5-9299aab6c444",
   "metadata": {},
   "source": [
    "如果想单独获得Series的所有索引值\n",
    "可以用index属性"
   ]
  },
  {
   "cell_type": "code",
   "execution_count": 6,
   "id": "f8f3c607-d2cf-4bfb-9c96-093cfd4a4ddb",
   "metadata": {},
   "outputs": [
    {
     "data": {
      "text/plain": [
       "RangeIndex(start=0, stop=5, step=1)"
      ]
     },
     "execution_count": 6,
     "metadata": {},
     "output_type": "execute_result"
    }
   ],
   "source": [
    "s1.index"
   ]
  },
  {
   "cell_type": "markdown",
   "id": "55707f2e-71e8-4cde-bfbf-8d2e7f4f0f0b",
   "metadata": {},
   "source": [
    "#### 索引和切片操作 - 这些都和python,numpy非常相似的"
   ]
  },
  {
   "cell_type": "markdown",
   "id": "1f89f2b0-b245-4f8f-9921-026f9e1c84c4",
   "metadata": {},
   "source": [
    "获得s1索引值为2的值"
   ]
  },
  {
   "cell_type": "code",
   "execution_count": 7,
   "id": "54a038e0-45a5-4942-a203-d4ad69dc902e",
   "metadata": {},
   "outputs": [
    {
     "data": {
      "text/plain": [
       "np.int64(3)"
      ]
     },
     "execution_count": 7,
     "metadata": {},
     "output_type": "execute_result"
    }
   ],
   "source": [
    "s1[2]"
   ]
  },
  {
   "cell_type": "markdown",
   "id": "047c18e2-ed2e-43db-9693-47a89f2abd96",
   "metadata": {},
   "source": [
    "获得s1索引从1到2的值"
   ]
  },
  {
   "cell_type": "code",
   "execution_count": 9,
   "id": "7e45a4ec-3275-470b-9200-c9b8bab766dd",
   "metadata": {},
   "outputs": [
    {
     "data": {
      "text/plain": [
       "1    7\n",
       "2    3\n",
       "dtype: int64"
      ]
     },
     "execution_count": 9,
     "metadata": {},
     "output_type": "execute_result"
    }
   ],
   "source": [
    "s1[1:3]"
   ]
  },
  {
   "cell_type": "markdown",
   "id": "19084881-c88f-4ed8-91e8-27f1dd2aa23a",
   "metadata": {},
   "source": [
    "#### 标签索引"
   ]
  },
  {
   "cell_type": "markdown",
   "id": "84cfc1d5-e71a-484c-a710-13e7191ac703",
   "metadata": {},
   "source": [
    "比如说创建一个index函数为a,d,b,c,e组成的列表\n",
    "元素对应的索引也变成了a,d,b,c,e\n",
    "输出的时候你也会看到旁边的索引变成了我们所指定的a,d,b,c,e"
   ]
  },
  {
   "cell_type": "code",
   "execution_count": 18,
   "id": "c49b5b1f-0b60-47b5-9d50-e50be6fc4e24",
   "metadata": {},
   "outputs": [],
   "source": [
    "s2 = pd.Series([5,7,3,26,31],\n",
    "              index = ['a','d','b','c','e'])"
   ]
  },
  {
   "cell_type": "code",
   "execution_count": 19,
   "id": "1bd5dac1-09ca-4ad3-90b0-8773ccca6495",
   "metadata": {},
   "outputs": [
    {
     "data": {
      "text/plain": [
       "a     5\n",
       "d     7\n",
       "b     3\n",
       "c    26\n",
       "e    31\n",
       "dtype: int64"
      ]
     },
     "execution_count": 19,
     "metadata": {},
     "output_type": "execute_result"
    }
   ],
   "source": [
    "s2"
   ]
  },
  {
   "cell_type": "markdown",
   "id": "4d11bf8f-d1fd-4e10-84f7-b4a39673c0d9",
   "metadata": {},
   "source": [
    "#### 用两种索引取值"
   ]
  },
  {
   "cell_type": "markdown",
   "id": "4a0ba9d5-0d93-4506-b570-075aac14ec67",
   "metadata": {},
   "source": [
    "用指定的字母可以找出索引值 用原先的数字也可以\n",
    "\n",
    "我们指定的索引 -- 标签索引\n",
    "\n",
    "原来的数字索引 -- 位置索引"
   ]
  },
  {
   "cell_type": "code",
   "execution_count": 23,
   "id": "38c3132b-1704-4e9f-a6a1-dd160d790d81",
   "metadata": {},
   "outputs": [
    {
     "data": {
      "text/plain": [
       "np.int64(3)"
      ]
     },
     "execution_count": 23,
     "metadata": {},
     "output_type": "execute_result"
    }
   ],
   "source": [
    "s2['b']"
   ]
  },
  {
   "cell_type": "code",
   "execution_count": 24,
   "id": "29b09648-2cb2-42c7-8c3c-31db380d9f16",
   "metadata": {},
   "outputs": [
    {
     "name": "stderr",
     "output_type": "stream",
     "text": [
      "/var/folders/hx/vrwsgqgx7bncbt28n44f0b540000gn/T/ipykernel_6635/3318850340.py:1: FutureWarning: Series.__getitem__ treating keys as positions is deprecated. In a future version, integer keys will always be treated as labels (consistent with DataFrame behavior). To access a value by position, use `ser.iloc[pos]`\n",
      "  s2[2]\n"
     ]
    },
    {
     "data": {
      "text/plain": [
       "np.int64(3)"
      ]
     },
     "execution_count": 24,
     "metadata": {},
     "output_type": "execute_result"
    }
   ],
   "source": [
    "s2[2]"
   ]
  },
  {
   "cell_type": "markdown",
   "id": "518c8dba-76ba-4cb8-b43d-a5d4ce5a9e39",
   "metadata": {},
   "source": [
    "#### 用两种索引切片"
   ]
  },
  {
   "cell_type": "markdown",
   "id": "6e20cdfd-b84e-4c6a-9eea-e073245a440c",
   "metadata": {},
   "source": [
    "非常要注意的是,标签索引的结束值是包含的!!!"
   ]
  },
  {
   "cell_type": "code",
   "execution_count": 25,
   "id": "9ca9fcd9-dc74-40cf-8719-de504a6f0df3",
   "metadata": {},
   "outputs": [
    {
     "data": {
      "text/plain": [
       "d     7\n",
       "b     3\n",
       "c    26\n",
       "dtype: int64"
      ]
     },
     "execution_count": 25,
     "metadata": {},
     "output_type": "execute_result"
    }
   ],
   "source": [
    "s2['d':'c']"
   ]
  },
  {
   "cell_type": "code",
   "execution_count": 26,
   "id": "b2153169-b0de-4695-938a-565fbc07bbd4",
   "metadata": {},
   "outputs": [
    {
     "data": {
      "text/plain": [
       "d    7\n",
       "b    3\n",
       "dtype: int64"
      ]
     },
     "execution_count": 26,
     "metadata": {},
     "output_type": "execute_result"
    }
   ],
   "source": [
    "s2[1:3]"
   ]
  },
  {
   "cell_type": "markdown",
   "id": "79afb42d-ea31-4587-ab88-6442e415b7b9",
   "metadata": {},
   "source": [
    "#### 用索引获得任意元素"
   ]
  },
  {
   "cell_type": "markdown",
   "id": "99368d37-c5d5-4da6-8973-f8585fe49fb7",
   "metadata": {},
   "source": [
    "如果要得到多个元素组成的series\n",
    "还可以在方括号里放一个列表\n",
    "里面包含想选出的元素索引\n",
    "这样顺序就不受限制了"
   ]
  },
  {
   "cell_type": "markdown",
   "id": "6828dbf4-c5be-4f53-9208-8079ddac6ab7",
   "metadata": {},
   "source": [
    "用标签索引"
   ]
  },
  {
   "cell_type": "code",
   "execution_count": 27,
   "id": "361a0ac9-b994-4d5d-b44b-5cfcedf4b13d",
   "metadata": {},
   "outputs": [
    {
     "data": {
      "text/plain": [
       "a     5\n",
       "e    31\n",
       "c    26\n",
       "dtype: int64"
      ]
     },
     "execution_count": 27,
     "metadata": {},
     "output_type": "execute_result"
    }
   ],
   "source": [
    "s2[['a','e','c']]"
   ]
  },
  {
   "cell_type": "markdown",
   "id": "22d12d39-8e6a-4109-b359-c9feed334c77",
   "metadata": {},
   "source": [
    "用位置索引"
   ]
  },
  {
   "cell_type": "code",
   "execution_count": 28,
   "id": "709a8e68-7223-4304-9264-d3dfe8e858ef",
   "metadata": {},
   "outputs": [
    {
     "name": "stderr",
     "output_type": "stream",
     "text": [
      "/var/folders/hx/vrwsgqgx7bncbt28n44f0b540000gn/T/ipykernel_6635/3568817536.py:1: FutureWarning: Series.__getitem__ treating keys as positions is deprecated. In a future version, integer keys will always be treated as labels (consistent with DataFrame behavior). To access a value by position, use `ser.iloc[pos]`\n",
      "  s2[[0,4,3]]\n"
     ]
    },
    {
     "data": {
      "text/plain": [
       "a     5\n",
       "e    31\n",
       "c    26\n",
       "dtype: int64"
      ]
     },
     "execution_count": 28,
     "metadata": {},
     "output_type": "execute_result"
    }
   ],
   "source": [
    "s2[[0,4,3]]"
   ]
  },
  {
   "cell_type": "markdown",
   "id": "284b5265-a977-4f80-8cca-a173a9011236",
   "metadata": {},
   "source": [
    "#### loc和iloc"
   ]
  },
  {
   "cell_type": "markdown",
   "id": "4a1c8e96-9124-4e1e-ba63-03fd3bb10c5c",
   "metadata": {},
   "source": [
    "loc-用标签索引\n",
    "\n",
    "iloc-用位置索引"
   ]
  },
  {
   "cell_type": "code",
   "execution_count": 30,
   "id": "a1c88d5b-c7ce-455c-86c0-f8a924883454",
   "metadata": {},
   "outputs": [],
   "source": [
    "s3 = pd.Series([5,17,3,26,31],\n",
    "              index = [1,3,5,7,9])"
   ]
  },
  {
   "cell_type": "markdown",
   "id": "21688ff7-b985-4171-8642-8820023e761b",
   "metadata": {},
   "source": [
    "loc-用标签索引"
   ]
  },
  {
   "cell_type": "code",
   "execution_count": 31,
   "id": "bbca4f6b-7e32-430a-bfa6-54941d181a07",
   "metadata": {},
   "outputs": [
    {
     "data": {
      "text/plain": [
       "1     5\n",
       "3    17\n",
       "dtype: int64"
      ]
     },
     "execution_count": 31,
     "metadata": {},
     "output_type": "execute_result"
    }
   ],
   "source": [
    "s3.loc[1:3]"
   ]
  },
  {
   "cell_type": "markdown",
   "id": "6a3968a9-fbd2-4dec-8781-42e9327ba2c3",
   "metadata": {},
   "source": [
    "iloc-用位置索引"
   ]
  },
  {
   "cell_type": "code",
   "execution_count": 32,
   "id": "5e6a81ef-20fd-48a0-8dd9-f98ad86533c8",
   "metadata": {},
   "outputs": [
    {
     "data": {
      "text/plain": [
       "3    17\n",
       "5     3\n",
       "dtype: int64"
      ]
     },
     "execution_count": 32,
     "metadata": {},
     "output_type": "execute_result"
    }
   ],
   "source": [
    "s3.iloc[1:3]"
   ]
  },
  {
   "cell_type": "markdown",
   "id": "5899faef-c927-486c-bf6d-84594fb1681f",
   "metadata": {},
   "source": [
    "#### 另一种创建自定义series的方法是:\n",
    "给Series这个构造函数直接传入一个字典\n",
    "\n",
    "字典的键就会自动变成值所对应的标签索引"
   ]
  },
  {
   "cell_type": "code",
   "execution_count": 35,
   "id": "15e9f1d4-6258-4023-b9c7-f5f37edcf79c",
   "metadata": {},
   "outputs": [
    {
     "data": {
      "text/plain": [
       "青菜     4.1\n",
       "白萝卜    2.2\n",
       "西红柿    5.3\n",
       "土豆     3.7\n",
       "黄瓜     6.8\n",
       "dtype: float64"
      ]
     },
     "execution_count": 35,
     "metadata": {},
     "output_type": "execute_result"
    }
   ],
   "source": [
    "s4 = pd.Series ({'青菜':4.1,'白萝卜':2.2,'西红柿':5.3,'土豆':3.7,'黄瓜':6.8})\n",
    "s4"
   ]
  },
  {
   "cell_type": "markdown",
   "id": "dd10f43f-f6e2-4d68-9023-d79c3cd780d1",
   "metadata": {},
   "source": [
    "#### 查看标签是否存在\n",
    "要想知道某个标签是否在series里,可以用in\n",
    "\n",
    "它会返回一个布尔值,来告诉我们是否存在"
   ]
  },
  {
   "cell_type": "code",
   "execution_count": 37,
   "id": "1775b66e-e90d-4156-b066-cfb55efabfdf",
   "metadata": {},
   "outputs": [
    {
     "data": {
      "text/plain": [
       "True"
      ]
     },
     "execution_count": 37,
     "metadata": {},
     "output_type": "execute_result"
    }
   ],
   "source": [
    "'白萝卜' in s4"
   ]
  },
  {
   "cell_type": "markdown",
   "id": "b6231381-39c0-478d-8794-bef214a3ea48",
   "metadata": {},
   "source": [
    "#### 修改Series里的值"
   ]
  },
  {
   "cell_type": "markdown",
   "id": "c204d416-6390-423b-8f20-6e2a5c628324",
   "metadata": {},
   "source": [
    "最好的方法还是用loc和iloc"
   ]
  },
  {
   "cell_type": "code",
   "execution_count": 39,
   "id": "f37fb5e7-8bdc-4722-ad32-413358da476e",
   "metadata": {},
   "outputs": [
    {
     "data": {
      "text/plain": [
       "青菜     4.5\n",
       "白萝卜    2.2\n",
       "西红柿    5.3\n",
       "土豆     3.7\n",
       "黄瓜     6.8\n",
       "dtype: float64"
      ]
     },
     "execution_count": 39,
     "metadata": {},
     "output_type": "execute_result"
    }
   ],
   "source": [
    "s4.loc['青菜'] = 4.5\n",
    "s4"
   ]
  },
  {
   "cell_type": "code",
   "execution_count": 40,
   "id": "58fe1aa9-66fa-41f4-90f9-806f6b45fe93",
   "metadata": {},
   "outputs": [
    {
     "data": {
      "text/plain": [
       "青菜     4.1\n",
       "白萝卜    2.2\n",
       "西红柿    5.3\n",
       "土豆     3.7\n",
       "黄瓜     6.8\n",
       "dtype: float64"
      ]
     },
     "execution_count": 40,
     "metadata": {},
     "output_type": "execute_result"
    }
   ],
   "source": [
    "s4.iloc[0] = 4.1\n",
    "s4"
   ]
  },
  {
   "cell_type": "markdown",
   "id": "2964e8e7-7008-4c1b-a6e5-79d6ba04f2fe",
   "metadata": {},
   "source": [
    "#### 根据条件筛选Series元素"
   ]
  },
  {
   "cell_type": "code",
   "execution_count": 41,
   "id": "0a309785-1894-4d77-af16-7f3bfef66598",
   "metadata": {},
   "outputs": [
    {
     "data": {
      "text/plain": [
       "白萝卜    2.2\n",
       "西红柿    5.3\n",
       "黄瓜     6.8\n",
       "dtype: float64"
      ]
     },
     "execution_count": 41,
     "metadata": {},
     "output_type": "execute_result"
    }
   ],
   "source": [
    "s4[(s4 > 5) | (s4 < 3)]"
   ]
  },
  {
   "cell_type": "code",
   "execution_count": null,
   "id": "216e7e91-2e18-480c-ad29-af61f473d638",
   "metadata": {},
   "outputs": [],
   "source": []
  }
 ],
 "metadata": {
  "kernelspec": {
   "display_name": "Python 3 (ipykernel)",
   "language": "python",
   "name": "python3"
  },
  "language_info": {
   "codemirror_mode": {
    "name": "ipython",
    "version": 3
   },
   "file_extension": ".py",
   "mimetype": "text/x-python",
   "name": "python",
   "nbconvert_exporter": "python",
   "pygments_lexer": "ipython3",
   "version": "3.13.7"
  }
 },
 "nbformat": 4,
 "nbformat_minor": 5
}
