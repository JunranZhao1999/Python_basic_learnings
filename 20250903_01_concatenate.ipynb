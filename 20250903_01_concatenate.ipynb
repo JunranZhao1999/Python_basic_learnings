{
 "cells": [
  {
   "cell_type": "markdown",
   "id": "16e050bb-9ff4-48d7-8c18-5fe38c2ec440",
   "metadata": {},
   "source": [
    "#### concatenate"
   ]
  },
  {
   "cell_type": "code",
   "execution_count": 2,
   "id": "12f00330-1f95-4862-a1b8-20fd3dc6bbd6",
   "metadata": {},
   "outputs": [
    {
     "data": {
      "text/plain": [
       "array([ 5., 17.,  3., 26., 31.,  0.,  0.])"
      ]
     },
     "execution_count": 2,
     "metadata": {},
     "output_type": "execute_result"
    }
   ],
   "source": [
    "import numpy as np\n",
    "arr1 = np.array([5,17,3,26,31])\n",
    "arr2 = np.zeros(2)\n",
    "np.concatenate([arr1,arr2])"
   ]
  },
  {
   "cell_type": "markdown",
   "id": "f7707d31-93cb-4f2a-9d67-97f80196e62e",
   "metadata": {},
   "source": [
    "#### np.sort是函数 会返回排序好的新的数组,但是传入的原始数组不会被改变"
   ]
  },
  {
   "cell_type": "code",
   "execution_count": 3,
   "id": "e028cafb-73cc-4257-aab9-cf2f566a1330",
   "metadata": {},
   "outputs": [
    {
     "name": "stdout",
     "output_type": "stream",
     "text": [
      "[ 3  5 17 26 31]\n",
      "[ 5 17  3 26 31]\n"
     ]
    }
   ],
   "source": [
    "import numpy as np\n",
    "arr1 = np.array([5, 17, 3, 26, 31])\n",
    "print(np.sort(arr1))\n",
    "print(arr1)"
   ]
  },
  {
   "cell_type": "markdown",
   "id": "f6c61cb0-1eeb-4d49-9f2d-c44030269b2c",
   "metadata": {},
   "source": [
    "#### 而数组的sort方法,会直接在数组上进行改动,把元素排序好。什么都不返回因为这时数组已经被改变,没必要返回了"
   ]
  },
  {
   "cell_type": "code",
   "execution_count": 4,
   "id": "0dbb4bd5-0a30-4ab4-96c3-113259b65bce",
   "metadata": {},
   "outputs": [
    {
     "name": "stdout",
     "output_type": "stream",
     "text": [
      "None\n",
      "[ 3  5 17 26 31]\n"
     ]
    }
   ],
   "source": [
    "import numpy as np\n",
    "arr1 = np.array([5, 17, 3, 26, 31])\n",
    "print(arr1.sort())\n",
    "print(arr1)"
   ]
  },
  {
   "cell_type": "markdown",
   "id": "ed97331a-bd04-4bc6-98e2-0e99175fd7fd",
   "metadata": {},
   "source": [
    "#### 用索引获得元素"
   ]
  },
  {
   "cell_type": "code",
   "execution_count": 5,
   "id": "37b25820-9926-434e-992d-e8e24caed22a",
   "metadata": {},
   "outputs": [
    {
     "name": "stdout",
     "output_type": "stream",
     "text": [
      "5\n",
      "26\n",
      "[17  3 26]\n"
     ]
    }
   ],
   "source": [
    "import numpy as np\n",
    "arr1 = np.array([5, 17, 3, 26, 31])\n",
    "print(arr1[0])\n",
    "print(arr1[-2])\n",
    "print(arr1[1:4])"
   ]
  },
  {
   "cell_type": "markdown",
   "id": "bf2063b4-e5ae-4114-aa66-81add2c9a25f",
   "metadata": {},
   "source": [
    "#### 数组和数组进行运算"
   ]
  },
  {
   "cell_type": "code",
   "execution_count": 6,
   "id": "f04709c1-47b9-4aab-a3eb-717ca61f6b7f",
   "metadata": {},
   "outputs": [
    {
     "name": "stdout",
     "output_type": "stream",
     "text": [
      "[ 7  8  9 10 11]\n",
      "[5 6 7 8 9]\n",
      "[ 6  7  8  9 10]\n",
      "[ 6.  7.  8.  9. 10.]\n"
     ]
    }
   ],
   "source": [
    "import numpy as np\n",
    "arr4 = np.array([6, 7, 8, 9, 10])\n",
    "arr5 = np.array([1, 1, 1, 1, 1])\n",
    "print(arr4 + arr5)\n",
    "print(arr4 - arr5)\n",
    "print(arr4 * arr5)\n",
    "print(arr4 / arr5)"
   ]
  },
  {
   "cell_type": "markdown",
   "id": "e852a562-88c3-458c-873a-7c0ab7745019",
   "metadata": {},
   "source": [
    "#### 数组和数字进行运算"
   ]
  },
  {
   "cell_type": "code",
   "execution_count": 7,
   "id": "9b4bded2-c2da-4d19-b841-7c48c0176a0f",
   "metadata": {},
   "outputs": [
    {
     "data": {
      "text/plain": [
       "array([18, 21, 24, 27, 30])"
      ]
     },
     "execution_count": 7,
     "metadata": {},
     "output_type": "execute_result"
    }
   ],
   "source": [
    "import numpy as np\n",
    "arr4 = np.array([6, 7, 8, 9, 10])\n",
    "arr4 * 3"
   ]
  },
  {
   "cell_type": "code",
   "execution_count": 8,
   "id": "bb4584c2-3611-4446-b61c-d6bdbf9eaf8d",
   "metadata": {},
   "outputs": [
    {
     "name": "stdout",
     "output_type": "stream",
     "text": [
      "10\n",
      "6\n",
      "40\n",
      "8.0\n"
     ]
    }
   ],
   "source": [
    "import numpy as np\n",
    "arr4 = np.array([6, 7, 8, 9, 10])\n",
    "print(arr4.max())\n",
    "print(arr4.min())\n",
    "print(arr4.sum())\n",
    "print(arr4.mean())"
   ]
  },
  {
   "cell_type": "markdown",
   "id": "788ab7ac-a5b3-43f5-a642-2cfbd17bec44",
   "metadata": {},
   "source": [
    "#### 根据特定条件从数组中筛选出值"
   ]
  },
  {
   "cell_type": "code",
   "execution_count": 9,
   "id": "cc5b63cf-9f43-455f-8b65-a21f3d2543d5",
   "metadata": {},
   "outputs": [
    {
     "data": {
      "text/plain": [
       "array([65,  9, 11,  7])"
      ]
     },
     "execution_count": 9,
     "metadata": {},
     "output_type": "execute_result"
    }
   ],
   "source": [
    "import numpy as np\n",
    "arr6 = np.array([-22, 3, 65, 9, 11, 7])\n",
    "arr6[arr6 > 6]"
   ]
  },
  {
   "cell_type": "markdown",
   "id": "d6c8e0fa-aa6c-4c38-8391-82b22dfb2640",
   "metadata": {},
   "source": [
    "#### 数组结合逻辑运算"
   ]
  },
  {
   "cell_type": "code",
   "execution_count": 10,
   "id": "44d942d6-ac59-4edb-83db-af3620cb5fc7",
   "metadata": {},
   "outputs": [
    {
     "data": {
      "text/plain": [
       "array([9, 7])"
      ]
     },
     "execution_count": 10,
     "metadata": {},
     "output_type": "execute_result"
    }
   ],
   "source": [
    "import numpy as np\n",
    "arr6 = np.array([-22, 3, 65, 9, 11, 7])\n",
    "arr6[(arr6 > 6) & (arr6 < 10)]"
   ]
  },
  {
   "cell_type": "code",
   "execution_count": null,
   "id": "05e1c8b4-cf2c-4fc8-b322-b45a54e35600",
   "metadata": {},
   "outputs": [],
   "source": []
  }
 ],
 "metadata": {
  "kernelspec": {
   "display_name": "Python 3 (ipykernel)",
   "language": "python",
   "name": "python3"
  },
  "language_info": {
   "codemirror_mode": {
    "name": "ipython",
    "version": 3
   },
   "file_extension": ".py",
   "mimetype": "text/x-python",
   "name": "python",
   "nbconvert_exporter": "python",
   "pygments_lexer": "ipython3",
   "version": "3.13.7"
  }
 },
 "nbformat": 4,
 "nbformat_minor": 5
}
