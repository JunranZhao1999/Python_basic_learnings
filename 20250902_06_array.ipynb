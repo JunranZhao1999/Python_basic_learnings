{
 "cells": [
  {
   "cell_type": "markdown",
   "id": "54885789-7f33-47f9-a022-44efe75f1e75",
   "metadata": {},
   "source": [
    "先导入NumPy库\n",
    "\n",
    "一般大家会写 import numpy as np\n",
    "\n",
    "导入NumPy库给它一个别名np\n",
    "\n",
    "这样使用这个库的任何东西时都可以输入np就可以调用NumPy,目的是打字更少更简洁"
   ]
  },
  {
   "cell_type": "code",
   "execution_count": 1,
   "id": "d19a9c3d-4b78-4aa9-aa09-1bb4c75b7017",
   "metadata": {},
   "outputs": [],
   "source": [
    "import numpy as np"
   ]
  },
  {
   "cell_type": "markdown",
   "id": "0951f354-8a42-4dff-9377-f2d74eb464ef",
   "metadata": {},
   "source": [
    "创建一个数组,最直观的方法就是通过NumPy的array方法把列表转换为数组"
   ]
  },
  {
   "cell_type": "code",
   "execution_count": 2,
   "id": "ee24bbc4-4e58-4c5f-8290-16d107f068d0",
   "metadata": {},
   "outputs": [
    {
     "data": {
      "text/plain": [
       "array([1, 2, 3])"
      ]
     },
     "execution_count": 2,
     "metadata": {},
     "output_type": "execute_result"
    }
   ],
   "source": [
    "arr1 = np.array([1,2,3])\n",
    "arr1"
   ]
  },
  {
   "cell_type": "code",
   "execution_count": 3,
   "id": "bd36d2d3-abb5-4c04-9d7d-cb5babbdd839",
   "metadata": {},
   "outputs": [
    {
     "data": {
      "text/plain": [
       "array([[1, 2, 3],\n",
       "       [4, 5, 6]])"
      ]
     },
     "execution_count": 3,
     "metadata": {},
     "output_type": "execute_result"
    }
   ],
   "source": [
    "arr2 = np.array([[1,2,3],[4,5,6]])\n",
    "arr2"
   ]
  },
  {
   "cell_type": "markdown",
   "id": "88d806c1-d967-442b-b798-fdcddca3d0a3",
   "metadata": {},
   "source": [
    "简单的列表会被转换为一维数组\n",
    "\n",
    "嵌套的列表会被转换为二维数组\n",
    "\n",
    "最左边有几个方括号,他就会被转换为几维的数组"
   ]
  },
  {
   "cell_type": "markdown",
   "id": "03d82e7a-8979-4694-a62e-8f38dc8a6cd2",
   "metadata": {},
   "source": [
    "传入不同类型元素,虽然不报错,但是array方法会强制把它们转化为同一种类型,所以最好一开始还是传入同类元素"
   ]
  },
  {
   "cell_type": "markdown",
   "id": "d4b350f1-1a5d-4b9b-80ab-cd9fc7b54cff",
   "metadata": {},
   "source": [
    "数组对象有一些属性\n",
    "ndim会返回给我们数组的维度"
   ]
  },
  {
   "cell_type": "code",
   "execution_count": 4,
   "id": "9b89e167-289f-48be-90d2-2bc52ee9e88e",
   "metadata": {},
   "outputs": [
    {
     "name": "stdout",
     "output_type": "stream",
     "text": [
      "1\n",
      "2\n"
     ]
    }
   ],
   "source": [
    "print(arr1.ndim)\n",
    "print(arr2.ndim)"
   ]
  },
  {
   "cell_type": "markdown",
   "id": "f5adf666-79e5-4864-91e2-e276a345716e",
   "metadata": {},
   "source": [
    "shape会返回一个元组,表示各个维度的元素的个数"
   ]
  },
  {
   "cell_type": "code",
   "execution_count": 5,
   "id": "3448dfbb-5444-4a43-ae1c-f06c1c0ee2c7",
   "metadata": {},
   "outputs": [
    {
     "name": "stdout",
     "output_type": "stream",
     "text": [
      "(3,)\n",
      "(2, 3)\n"
     ]
    }
   ],
   "source": [
    "print(arr1.shape)\n",
    "print(arr2.shape)"
   ]
  },
  {
   "cell_type": "markdown",
   "id": "1afc9e99-e8a2-489d-b6b8-11eb5abc1c97",
   "metadata": {},
   "source": [
    "size会返回给我们数组里面元素的总个数"
   ]
  },
  {
   "cell_type": "code",
   "execution_count": 6,
   "id": "71a81b76-2d2a-4f87-9659-803c21f63cf8",
   "metadata": {},
   "outputs": [
    {
     "name": "stdout",
     "output_type": "stream",
     "text": [
      "3\n",
      "6\n"
     ]
    }
   ],
   "source": [
    "print(arr1.size)\n",
    "print(arr2.size)"
   ]
  },
  {
   "cell_type": "markdown",
   "id": "7f439584-dfa6-4646-96e9-5b2e65cfcb39",
   "metadata": {},
   "source": [
    "dtype会返回给我们数组元组的类型 int64 64位整数"
   ]
  },
  {
   "cell_type": "code",
   "execution_count": 7,
   "id": "37c749dc-c72d-4526-970c-ef5faaf4ae96",
   "metadata": {
    "scrolled": true
   },
   "outputs": [
    {
     "name": "stdout",
     "output_type": "stream",
     "text": [
      "int64\n",
      "int64\n"
     ]
    }
   ],
   "source": [
    "print(arr1.dtype)\n",
    "print(arr2.dtype)"
   ]
  },
  {
   "cell_type": "markdown",
   "id": "22a91aaa-a642-4ccf-b273-0874e75d88c0",
   "metadata": {},
   "source": [
    "除了array方法,NumPy也提供其他创建数组的方法"
   ]
  },
  {
   "cell_type": "markdown",
   "id": "f4c833a2-5d10-41e1-8f65-60d73e70af45",
   "metadata": {},
   "source": [
    "zeros方法:创建元素全部为0的数组"
   ]
  },
  {
   "cell_type": "code",
   "execution_count": 9,
   "id": "b484955d-2da6-4d4b-b4ce-673946d0f5d4",
   "metadata": {},
   "outputs": [
    {
     "data": {
      "text/plain": [
       "array([0., 0., 0., 0., 0., 0., 0., 0., 0.])"
      ]
     },
     "execution_count": 9,
     "metadata": {},
     "output_type": "execute_result"
    }
   ],
   "source": [
    "np.zeros(9)"
   ]
  },
  {
   "cell_type": "markdown",
   "id": "ea074fe7-1364-4f03-afa2-a46bff2624ec",
   "metadata": {},
   "source": [
    "ones方法:创建元素全部为1的数组"
   ]
  },
  {
   "cell_type": "code",
   "execution_count": 10,
   "id": "8004de1d-72fc-4d2e-af6c-e1d51c045340",
   "metadata": {},
   "outputs": [
    {
     "data": {
      "text/plain": [
       "array([1., 1., 1., 1., 1.])"
      ]
     },
     "execution_count": 10,
     "metadata": {},
     "output_type": "execute_result"
    }
   ],
   "source": [
    "np.ones(5)"
   ]
  },
  {
   "cell_type": "markdown",
   "id": "35833180-38d5-445d-ac19-932656109623",
   "metadata": {},
   "source": [
    "之所以这些数字后面都有小数点,是因为这些数字类型是浮点数,而不是整数"
   ]
  },
  {
   "cell_type": "markdown",
   "id": "effb28a6-e8d7-47c7-b100-36c97a4b3a26",
   "metadata": {},
   "source": [
    "arange 创建元素为序列的方法\n",
    "\n",
    "arange\n",
    "表示针对array的range方法\n",
    "\n",
    "里面传入的参数和range是一样的\n",
    "结束值不会被包括在范围内"
   ]
  },
  {
   "cell_type": "code",
   "execution_count": 11,
   "id": "e897016b-c93f-47b8-b901-fad0b75a0111",
   "metadata": {},
   "outputs": [
    {
     "data": {
      "text/plain": [
       "array([5, 7, 9])"
      ]
     },
     "execution_count": 11,
     "metadata": {},
     "output_type": "execute_result"
    }
   ],
   "source": [
    "np.arange(5,10,2)"
   ]
  },
  {
   "cell_type": "code",
   "execution_count": null,
   "id": "cd62c035-dd48-4fbf-945e-289d25519a48",
   "metadata": {},
   "outputs": [],
   "source": []
  }
 ],
 "metadata": {
  "kernelspec": {
   "display_name": "Python 3 (ipykernel)",
   "language": "python",
   "name": "python3"
  },
  "language_info": {
   "codemirror_mode": {
    "name": "ipython",
    "version": 3
   },
   "file_extension": ".py",
   "mimetype": "text/x-python",
   "name": "python",
   "nbconvert_exporter": "python",
   "pygments_lexer": "ipython3",
   "version": "3.13.7"
  }
 },
 "nbformat": 4,
 "nbformat_minor": 5
}
