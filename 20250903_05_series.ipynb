{
 "cells": [
  {
   "cell_type": "markdown",
   "id": "cd959aa9-791c-495b-8c52-21547a3dad72",
   "metadata": {},
   "source": [
    "#### Series和Series操作"
   ]
  },
  {
   "cell_type": "markdown",
   "id": "021fbefc-23d8-4d0f-ab04-f2fb92800553",
   "metadata": {},
   "source": [
    "在series和series之间,可做加减乘除,pandas会自动根据索引去排序并对齐\n",
    "\n",
    "如果索引只在其中一个Series出现的话,结果就会是NaN,表示not a number\n",
    "\n",
    "也就是说,由于Series之间的计算会自动进行索引对齐,只有当某个索引同时出现在两个Series里时,结果里才会有对应值"
   ]
  },
  {
   "cell_type": "code",
   "execution_count": 1,
   "id": "db2350af-6283-4c32-88fb-13ebf31c479a",
   "metadata": {},
   "outputs": [],
   "source": [
    "import pandas as pd"
   ]
  },
  {
   "cell_type": "code",
   "execution_count": 3,
   "id": "52441f72-9edf-4384-8e1e-74eae0a3a5c4",
   "metadata": {},
   "outputs": [
    {
     "data": {
      "text/plain": [
       "1    1\n",
       "3    4\n",
       "5    2\n",
       "7    3\n",
       "9    5\n",
       "dtype: int64"
      ]
     },
     "execution_count": 3,
     "metadata": {},
     "output_type": "execute_result"
    }
   ],
   "source": [
    "s1 = pd.Series([1,4,2,3,5], index=[1,3,5,7,9])\n",
    "s1"
   ]
  },
  {
   "cell_type": "code",
   "execution_count": 4,
   "id": "84d39d41-c2a5-4597-9328-d220d18c7891",
   "metadata": {},
   "outputs": [
    {
     "data": {
      "text/plain": [
       "1     8\n",
       "2     1\n",
       "3     7\n",
       "5     3\n",
       "10    9\n",
       "dtype: int64"
      ]
     },
     "execution_count": 4,
     "metadata": {},
     "output_type": "execute_result"
    }
   ],
   "source": [
    "s2 = pd.Series([8,1,7,3,9], index = [1,2,3,5,10])\n",
    "s2"
   ]
  },
  {
   "cell_type": "code",
   "execution_count": 5,
   "id": "7e30e7ff-08e2-48c9-92a3-166f44cdf780",
   "metadata": {},
   "outputs": [
    {
     "data": {
      "text/plain": [
       "1      9.0\n",
       "2      NaN\n",
       "3     11.0\n",
       "5      5.0\n",
       "7      NaN\n",
       "9      NaN\n",
       "10     NaN\n",
       "dtype: float64"
      ]
     },
     "execution_count": 5,
     "metadata": {},
     "output_type": "execute_result"
    }
   ],
   "source": [
    "s1 + s2"
   ]
  },
  {
   "cell_type": "markdown",
   "id": "98b9f6a7-4325-492b-b6b2-95f0a978c544",
   "metadata": {},
   "source": [
    "如果你希望给缺失的值一个默认值的话,可以用方法而不是符号去做这些操作,然后给fill value这个参数传入一个值\n",
    "用符号的话我们没办法传参,但用方法就可以"
   ]
  },
  {
   "cell_type": "code",
   "execution_count": 6,
   "id": "35a878b4-3a4d-4921-9d09-e45a339c4626",
   "metadata": {
    "scrolled": true
   },
   "outputs": [
    {
     "data": {
      "text/plain": [
       "1      9.0\n",
       "2      1.0\n",
       "3     11.0\n",
       "5      5.0\n",
       "7      3.0\n",
       "9      5.0\n",
       "10     9.0\n",
       "dtype: float64"
      ]
     },
     "execution_count": 6,
     "metadata": {},
     "output_type": "execute_result"
    }
   ],
   "source": [
    "s1.add(s2,fill_value = 0)"
   ]
  },
  {
   "cell_type": "markdown",
   "id": "213c61c4-f7a4-475b-be26-79bab5272425",
   "metadata": {},
   "source": [
    "sub/mul/div也是一样的"
   ]
  },
  {
   "cell_type": "code",
   "execution_count": 7,
   "id": "3ccd3bae-16f6-4482-b99e-e2c611353ad0",
   "metadata": {},
   "outputs": [
    {
     "data": {
      "text/plain": [
       "1    -7.0\n",
       "2    -1.0\n",
       "3    -3.0\n",
       "5    -1.0\n",
       "7     3.0\n",
       "9     5.0\n",
       "10   -9.0\n",
       "dtype: float64"
      ]
     },
     "execution_count": 7,
     "metadata": {},
     "output_type": "execute_result"
    }
   ],
   "source": [
    "s1.sub(s2,fill_value = 0)"
   ]
  },
  {
   "cell_type": "code",
   "execution_count": 8,
   "id": "9f00c02c-79ed-40ef-8412-b166c66c02a8",
   "metadata": {},
   "outputs": [
    {
     "data": {
      "text/plain": [
       "1      8.0\n",
       "2      1.0\n",
       "3     28.0\n",
       "5      6.0\n",
       "7      3.0\n",
       "9      5.0\n",
       "10     9.0\n",
       "dtype: float64"
      ]
     },
     "execution_count": 8,
     "metadata": {},
     "output_type": "execute_result"
    }
   ],
   "source": [
    "s1.mul(s2,fill_value = 1)"
   ]
  },
  {
   "cell_type": "code",
   "execution_count": 9,
   "id": "e388eef6-704b-435c-8287-724eb4faeff4",
   "metadata": {},
   "outputs": [
    {
     "data": {
      "text/plain": [
       "1     0.125000\n",
       "2     1.000000\n",
       "3     0.571429\n",
       "5     0.666667\n",
       "7     3.000000\n",
       "9     5.000000\n",
       "10    0.111111\n",
       "dtype: float64"
      ]
     },
     "execution_count": 9,
     "metadata": {},
     "output_type": "execute_result"
    }
   ],
   "source": [
    "s1.div(s2,fill_value = 1)"
   ]
  },
  {
   "cell_type": "markdown",
   "id": "8a3b92af-a725-4bb0-b3fc-b99a82f1fe34",
   "metadata": {},
   "source": [
    "#### Series的常用方法"
   ]
  },
  {
   "cell_type": "markdown",
   "id": "62c92363-618b-4922-a274-e34f61632e04",
   "metadata": {},
   "source": [
    "求最值/平均值/总值"
   ]
  },
  {
   "cell_type": "code",
   "execution_count": 10,
   "id": "bf5a001b-70b5-4521-a42a-1a3f0ed708b3",
   "metadata": {},
   "outputs": [
    {
     "name": "stdout",
     "output_type": "stream",
     "text": [
      "5\n",
      "1\n",
      "15\n",
      "3.0\n"
     ]
    }
   ],
   "source": [
    "print(s1.max())\n",
    "print(s1.min())\n",
    "print(s1.sum())\n",
    "print(s1.mean())"
   ]
  },
  {
   "cell_type": "markdown",
   "id": "f74ffe09-3d5e-4e22-ad5f-e7237d9b00af",
   "metadata": {},
   "source": [
    "#### .descibe()"
   ]
  },
  {
   "cell_type": "markdown",
   "id": "e79924f2-43fd-4a47-b0b8-ebe80f852e05",
   "metadata": {},
   "source": [
    "series还有一个很强大的方法,叫做describe,这个是数组没有的\n",
    ".describe( )方法能直接告诉我们很多关于这个Series的统计信息:包括元素个数,平均数,标准差,最小值,第一四分位数,中位数,第三四分位数,最大值"
   ]
  },
  {
   "cell_type": "code",
   "execution_count": 11,
   "id": "c811d54a-e61a-4e39-81b0-7532e8419a84",
   "metadata": {},
   "outputs": [
    {
     "data": {
      "text/plain": [
       "count    5.000000\n",
       "mean     3.000000\n",
       "std      1.581139\n",
       "min      1.000000\n",
       "25%      2.000000\n",
       "50%      3.000000\n",
       "75%      4.000000\n",
       "max      5.000000\n",
       "dtype: float64"
      ]
     },
     "execution_count": 11,
     "metadata": {},
     "output_type": "execute_result"
    }
   ],
   "source": [
    "s1.describe()"
   ]
  },
  {
   "cell_type": "markdown",
   "id": "30d967b5-525a-449f-9776-db6297166123",
   "metadata": {},
   "source": [
    "#### 对元素分别操作"
   ]
  },
  {
   "cell_type": "markdown",
   "id": "316bcd3b-6eec-47a1-9ec4-455ec2ed40fb",
   "metadata": {},
   "source": [
    "如何对某一个元素分别操作?\n",
    "\n",
    "pandas Series和numpy一样 都有广播机制"
   ]
  },
  {
   "cell_type": "markdown",
   "id": "294cf3ef-db0b-4244-a91a-356f0b22ed81",
   "metadata": {},
   "source": [
    "一个叫apply的方法可以派上用场\n",
    "\n",
    "apply方法**接收函数作为参数**\n",
    "然后调用时把Series里各个元素分别作为那个函数的参数\n",
    "返回的Series里的元素就是那个函数对原始Series里各个元素调用的结果"
   ]
  },
  {
   "cell_type": "markdown",
   "id": "b4993bc8-1b41-4b3e-8d92-70aed115826d",
   "metadata": {},
   "source": [
    "这个apply相当于是高级函数"
   ]
  },
  {
   "cell_type": "markdown",
   "id": "da338b3d-2771-4328-ba32-d9a5e27b59b6",
   "metadata": {},
   "source": [
    "例子: 我们希望能得到每个成绩对应的等级"
   ]
  },
  {
   "cell_type": "code",
   "execution_count": 13,
   "id": "3f68d50a-29d5-41f9-8a2e-479e95a7eec8",
   "metadata": {},
   "outputs": [
    {
     "data": {
      "text/plain": [
       "小明    92\n",
       "小红    67\n",
       "小杰    70\n",
       "小丽    88\n",
       "小华    76\n",
       "dtype: int64"
      ]
     },
     "execution_count": 13,
     "metadata": {},
     "output_type": "execute_result"
    }
   ],
   "source": [
    "scores = pd.Series({'小明':92,'小红':67, '小杰':70, '小丽':88, '小华':76})\n",
    "scores"
   ]
  },
  {
   "cell_type": "code",
   "execution_count": 15,
   "id": "27ddbc58-4aa1-4962-b9f4-e22ca93dd754",
   "metadata": {},
   "outputs": [
    {
     "data": {
      "text/plain": [
       "小明    A\n",
       "小红    D\n",
       "小杰    C\n",
       "小丽    B\n",
       "小华    C\n",
       "dtype: object"
      ]
     },
     "execution_count": 15,
     "metadata": {},
     "output_type": "execute_result"
    }
   ],
   "source": [
    "def get_grade_from_score(score):\n",
    "    if score >= 90:\n",
    "        return 'A'\n",
    "    elif score >= 80:\n",
    "        return 'B'\n",
    "    elif score >= 70:\n",
    "        return 'C'\n",
    "    else:\n",
    "        return 'D'\n",
    "grades = scores.apply(get_grade_from_score)\n",
    "grades"
   ]
  },
  {
   "cell_type": "markdown",
   "id": "14f7b753-2027-4322-8a61-eb6831a4bc23",
   "metadata": {},
   "source": [
    "**apply方法并不改变原始Series!!! 而是会返回一个新的Series**"
   ]
  },
  {
   "cell_type": "markdown",
   "id": "20abde11-5283-456c-ad1c-8bd195efc748",
   "metadata": {},
   "source": [
    "#### lambda"
   ]
  },
  {
   "cell_type": "code",
   "execution_count": 20,
   "id": "d573b089-20e1-41c6-bdf2-549ce114db78",
   "metadata": {},
   "outputs": [
    {
     "data": {
      "text/plain": [
       "小明    8464\n",
       "小红    4489\n",
       "小杰    4900\n",
       "小丽    7744\n",
       "小华    5776\n",
       "dtype: int64"
      ]
     },
     "execution_count": 20,
     "metadata": {},
     "output_type": "execute_result"
    }
   ],
   "source": [
    "scores_square = scores.apply(lambda x: x*x)\n",
    "scores_square"
   ]
  },
  {
   "cell_type": "code",
   "execution_count": null,
   "id": "023d3665-4169-4b83-9934-7d77d3958752",
   "metadata": {},
   "outputs": [],
   "source": []
  }
 ],
 "metadata": {
  "kernelspec": {
   "display_name": "Python 3 (ipykernel)",
   "language": "python",
   "name": "python3"
  },
  "language_info": {
   "codemirror_mode": {
    "name": "ipython",
    "version": 3
   },
   "file_extension": ".py",
   "mimetype": "text/x-python",
   "name": "python",
   "nbconvert_exporter": "python",
   "pygments_lexer": "ipython3",
   "version": "3.13.7"
  }
 },
 "nbformat": 4,
 "nbformat_minor": 5
}
